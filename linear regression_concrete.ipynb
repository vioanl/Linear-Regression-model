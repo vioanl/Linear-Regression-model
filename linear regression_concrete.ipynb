{
 "cells": [
  {
   "cell_type": "code",
   "execution_count": 1,
   "metadata": {},
   "outputs": [],
   "source": [
    "import numpy as np \n",
    "import sklearn as sk\n",
    "import pandas as pd\n",
    "import matplotlib.pyplot as plt\n",
    "\n",
    "from sklearn import linear_model as lm "
   ]
  },
  {
   "cell_type": "code",
   "execution_count": 5,
   "metadata": {},
   "outputs": [
    {
     "ename": "FileNotFoundError",
     "evalue": "[Errno 2] File b'concretedata1.csv' does not exist: b'concretedata1.csv'",
     "output_type": "error",
     "traceback": [
      "\u001b[1;31m---------------------------------------------------------------------------\u001b[0m",
      "\u001b[1;31mFileNotFoundError\u001b[0m                         Traceback (most recent call last)",
      "\u001b[1;32m<ipython-input-5-49639e12eef9>\u001b[0m in \u001b[0;36m<module>\u001b[1;34m\u001b[0m\n\u001b[0;32m      1\u001b[0m \u001b[1;31m#διαβάζουμε το αρχείο μέσω της βιβλιοθήκης pandas\u001b[0m\u001b[1;33m\u001b[0m\u001b[1;33m\u001b[0m\u001b[1;33m\u001b[0m\u001b[0m\n\u001b[1;32m----> 2\u001b[1;33m \u001b[0mconc_data\u001b[0m\u001b[1;33m=\u001b[0m\u001b[0mpd\u001b[0m\u001b[1;33m.\u001b[0m\u001b[0mread_csv\u001b[0m\u001b[1;33m(\u001b[0m\u001b[1;34m\"concretedata1.csv\"\u001b[0m\u001b[1;33m)\u001b[0m\u001b[1;33m\u001b[0m\u001b[1;33m\u001b[0m\u001b[0m\n\u001b[0m",
      "\u001b[1;32m~\\Anaconda3\\envs\\new_enviroment\\lib\\site-packages\\pandas\\io\\parsers.py\u001b[0m in \u001b[0;36mparser_f\u001b[1;34m(filepath_or_buffer, sep, delimiter, header, names, index_col, usecols, squeeze, prefix, mangle_dupe_cols, dtype, engine, converters, true_values, false_values, skipinitialspace, skiprows, skipfooter, nrows, na_values, keep_default_na, na_filter, verbose, skip_blank_lines, parse_dates, infer_datetime_format, keep_date_col, date_parser, dayfirst, iterator, chunksize, compression, thousands, decimal, lineterminator, quotechar, quoting, doublequote, escapechar, comment, encoding, dialect, tupleize_cols, error_bad_lines, warn_bad_lines, delim_whitespace, low_memory, memory_map, float_precision)\u001b[0m\n\u001b[0;32m    700\u001b[0m                     skip_blank_lines=skip_blank_lines)\n\u001b[0;32m    701\u001b[0m \u001b[1;33m\u001b[0m\u001b[0m\n\u001b[1;32m--> 702\u001b[1;33m         \u001b[1;32mreturn\u001b[0m \u001b[0m_read\u001b[0m\u001b[1;33m(\u001b[0m\u001b[0mfilepath_or_buffer\u001b[0m\u001b[1;33m,\u001b[0m \u001b[0mkwds\u001b[0m\u001b[1;33m)\u001b[0m\u001b[1;33m\u001b[0m\u001b[1;33m\u001b[0m\u001b[0m\n\u001b[0m\u001b[0;32m    703\u001b[0m \u001b[1;33m\u001b[0m\u001b[0m\n\u001b[0;32m    704\u001b[0m     \u001b[0mparser_f\u001b[0m\u001b[1;33m.\u001b[0m\u001b[0m__name__\u001b[0m \u001b[1;33m=\u001b[0m \u001b[0mname\u001b[0m\u001b[1;33m\u001b[0m\u001b[1;33m\u001b[0m\u001b[0m\n",
      "\u001b[1;32m~\\Anaconda3\\envs\\new_enviroment\\lib\\site-packages\\pandas\\io\\parsers.py\u001b[0m in \u001b[0;36m_read\u001b[1;34m(filepath_or_buffer, kwds)\u001b[0m\n\u001b[0;32m    427\u001b[0m \u001b[1;33m\u001b[0m\u001b[0m\n\u001b[0;32m    428\u001b[0m     \u001b[1;31m# Create the parser.\u001b[0m\u001b[1;33m\u001b[0m\u001b[1;33m\u001b[0m\u001b[1;33m\u001b[0m\u001b[0m\n\u001b[1;32m--> 429\u001b[1;33m     \u001b[0mparser\u001b[0m \u001b[1;33m=\u001b[0m \u001b[0mTextFileReader\u001b[0m\u001b[1;33m(\u001b[0m\u001b[0mfilepath_or_buffer\u001b[0m\u001b[1;33m,\u001b[0m \u001b[1;33m**\u001b[0m\u001b[0mkwds\u001b[0m\u001b[1;33m)\u001b[0m\u001b[1;33m\u001b[0m\u001b[1;33m\u001b[0m\u001b[0m\n\u001b[0m\u001b[0;32m    430\u001b[0m \u001b[1;33m\u001b[0m\u001b[0m\n\u001b[0;32m    431\u001b[0m     \u001b[1;32mif\u001b[0m \u001b[0mchunksize\u001b[0m \u001b[1;32mor\u001b[0m \u001b[0miterator\u001b[0m\u001b[1;33m:\u001b[0m\u001b[1;33m\u001b[0m\u001b[1;33m\u001b[0m\u001b[0m\n",
      "\u001b[1;32m~\\Anaconda3\\envs\\new_enviroment\\lib\\site-packages\\pandas\\io\\parsers.py\u001b[0m in \u001b[0;36m__init__\u001b[1;34m(self, f, engine, **kwds)\u001b[0m\n\u001b[0;32m    893\u001b[0m             \u001b[0mself\u001b[0m\u001b[1;33m.\u001b[0m\u001b[0moptions\u001b[0m\u001b[1;33m[\u001b[0m\u001b[1;34m'has_index_names'\u001b[0m\u001b[1;33m]\u001b[0m \u001b[1;33m=\u001b[0m \u001b[0mkwds\u001b[0m\u001b[1;33m[\u001b[0m\u001b[1;34m'has_index_names'\u001b[0m\u001b[1;33m]\u001b[0m\u001b[1;33m\u001b[0m\u001b[1;33m\u001b[0m\u001b[0m\n\u001b[0;32m    894\u001b[0m \u001b[1;33m\u001b[0m\u001b[0m\n\u001b[1;32m--> 895\u001b[1;33m         \u001b[0mself\u001b[0m\u001b[1;33m.\u001b[0m\u001b[0m_make_engine\u001b[0m\u001b[1;33m(\u001b[0m\u001b[0mself\u001b[0m\u001b[1;33m.\u001b[0m\u001b[0mengine\u001b[0m\u001b[1;33m)\u001b[0m\u001b[1;33m\u001b[0m\u001b[1;33m\u001b[0m\u001b[0m\n\u001b[0m\u001b[0;32m    896\u001b[0m \u001b[1;33m\u001b[0m\u001b[0m\n\u001b[0;32m    897\u001b[0m     \u001b[1;32mdef\u001b[0m \u001b[0mclose\u001b[0m\u001b[1;33m(\u001b[0m\u001b[0mself\u001b[0m\u001b[1;33m)\u001b[0m\u001b[1;33m:\u001b[0m\u001b[1;33m\u001b[0m\u001b[1;33m\u001b[0m\u001b[0m\n",
      "\u001b[1;32m~\\Anaconda3\\envs\\new_enviroment\\lib\\site-packages\\pandas\\io\\parsers.py\u001b[0m in \u001b[0;36m_make_engine\u001b[1;34m(self, engine)\u001b[0m\n\u001b[0;32m   1120\u001b[0m     \u001b[1;32mdef\u001b[0m \u001b[0m_make_engine\u001b[0m\u001b[1;33m(\u001b[0m\u001b[0mself\u001b[0m\u001b[1;33m,\u001b[0m \u001b[0mengine\u001b[0m\u001b[1;33m=\u001b[0m\u001b[1;34m'c'\u001b[0m\u001b[1;33m)\u001b[0m\u001b[1;33m:\u001b[0m\u001b[1;33m\u001b[0m\u001b[1;33m\u001b[0m\u001b[0m\n\u001b[0;32m   1121\u001b[0m         \u001b[1;32mif\u001b[0m \u001b[0mengine\u001b[0m \u001b[1;33m==\u001b[0m \u001b[1;34m'c'\u001b[0m\u001b[1;33m:\u001b[0m\u001b[1;33m\u001b[0m\u001b[1;33m\u001b[0m\u001b[0m\n\u001b[1;32m-> 1122\u001b[1;33m             \u001b[0mself\u001b[0m\u001b[1;33m.\u001b[0m\u001b[0m_engine\u001b[0m \u001b[1;33m=\u001b[0m \u001b[0mCParserWrapper\u001b[0m\u001b[1;33m(\u001b[0m\u001b[0mself\u001b[0m\u001b[1;33m.\u001b[0m\u001b[0mf\u001b[0m\u001b[1;33m,\u001b[0m \u001b[1;33m**\u001b[0m\u001b[0mself\u001b[0m\u001b[1;33m.\u001b[0m\u001b[0moptions\u001b[0m\u001b[1;33m)\u001b[0m\u001b[1;33m\u001b[0m\u001b[1;33m\u001b[0m\u001b[0m\n\u001b[0m\u001b[0;32m   1123\u001b[0m         \u001b[1;32melse\u001b[0m\u001b[1;33m:\u001b[0m\u001b[1;33m\u001b[0m\u001b[1;33m\u001b[0m\u001b[0m\n\u001b[0;32m   1124\u001b[0m             \u001b[1;32mif\u001b[0m \u001b[0mengine\u001b[0m \u001b[1;33m==\u001b[0m \u001b[1;34m'python'\u001b[0m\u001b[1;33m:\u001b[0m\u001b[1;33m\u001b[0m\u001b[1;33m\u001b[0m\u001b[0m\n",
      "\u001b[1;32m~\\Anaconda3\\envs\\new_enviroment\\lib\\site-packages\\pandas\\io\\parsers.py\u001b[0m in \u001b[0;36m__init__\u001b[1;34m(self, src, **kwds)\u001b[0m\n\u001b[0;32m   1851\u001b[0m         \u001b[0mkwds\u001b[0m\u001b[1;33m[\u001b[0m\u001b[1;34m'usecols'\u001b[0m\u001b[1;33m]\u001b[0m \u001b[1;33m=\u001b[0m \u001b[0mself\u001b[0m\u001b[1;33m.\u001b[0m\u001b[0musecols\u001b[0m\u001b[1;33m\u001b[0m\u001b[1;33m\u001b[0m\u001b[0m\n\u001b[0;32m   1852\u001b[0m \u001b[1;33m\u001b[0m\u001b[0m\n\u001b[1;32m-> 1853\u001b[1;33m         \u001b[0mself\u001b[0m\u001b[1;33m.\u001b[0m\u001b[0m_reader\u001b[0m \u001b[1;33m=\u001b[0m \u001b[0mparsers\u001b[0m\u001b[1;33m.\u001b[0m\u001b[0mTextReader\u001b[0m\u001b[1;33m(\u001b[0m\u001b[0msrc\u001b[0m\u001b[1;33m,\u001b[0m \u001b[1;33m**\u001b[0m\u001b[0mkwds\u001b[0m\u001b[1;33m)\u001b[0m\u001b[1;33m\u001b[0m\u001b[1;33m\u001b[0m\u001b[0m\n\u001b[0m\u001b[0;32m   1854\u001b[0m         \u001b[0mself\u001b[0m\u001b[1;33m.\u001b[0m\u001b[0munnamed_cols\u001b[0m \u001b[1;33m=\u001b[0m \u001b[0mself\u001b[0m\u001b[1;33m.\u001b[0m\u001b[0m_reader\u001b[0m\u001b[1;33m.\u001b[0m\u001b[0munnamed_cols\u001b[0m\u001b[1;33m\u001b[0m\u001b[1;33m\u001b[0m\u001b[0m\n\u001b[0;32m   1855\u001b[0m \u001b[1;33m\u001b[0m\u001b[0m\n",
      "\u001b[1;32mpandas\\_libs\\parsers.pyx\u001b[0m in \u001b[0;36mpandas._libs.parsers.TextReader.__cinit__\u001b[1;34m()\u001b[0m\n",
      "\u001b[1;32mpandas\\_libs\\parsers.pyx\u001b[0m in \u001b[0;36mpandas._libs.parsers.TextReader._setup_parser_source\u001b[1;34m()\u001b[0m\n",
      "\u001b[1;31mFileNotFoundError\u001b[0m: [Errno 2] File b'concretedata1.csv' does not exist: b'concretedata1.csv'"
     ]
    }
   ],
   "source": [
    "#διαβάζουμε το αρχείο μέσω της βιβλιοθήκης pandas\n",
    "conc_data=pd.read_csv(\"concretedata1.csv\")"
   ]
  },
  {
   "cell_type": "code",
   "execution_count": 2,
   "metadata": {},
   "outputs": [
    {
     "ename": "NameError",
     "evalue": "name 'pd' is not defined",
     "output_type": "error",
     "traceback": [
      "\u001b[1;31m---------------------------------------------------------------------------\u001b[0m",
      "\u001b[1;31mNameError\u001b[0m                                 Traceback (most recent call last)",
      "\u001b[1;32m<ipython-input-2-f54942d9d100>\u001b[0m in \u001b[0;36m<module>\u001b[1;34m\u001b[0m\n\u001b[0;32m      1\u001b[0m \u001b[1;31m#προσθέτουμε στο αρχείο τους τίτλους των στηλών\u001b[0m\u001b[1;33m\u001b[0m\u001b[1;33m\u001b[0m\u001b[1;33m\u001b[0m\u001b[0m\n\u001b[0;32m      2\u001b[0m \u001b[0mnames\u001b[0m \u001b[1;33m=\u001b[0m \u001b[1;33m[\u001b[0m\u001b[1;34m'cement'\u001b[0m\u001b[1;33m,\u001b[0m \u001b[1;34m'slag'\u001b[0m\u001b[1;33m,\u001b[0m \u001b[1;34m'fly ash'\u001b[0m\u001b[1;33m,\u001b[0m \u001b[1;34m'water'\u001b[0m\u001b[1;33m,\u001b[0m \u001b[1;34m'superplasticize'\u001b[0m\u001b[1;33m,\u001b[0m \u001b[1;34m'aggregate'\u001b[0m\u001b[1;33m,\u001b[0m \u001b[1;34m'fine aggregate'\u001b[0m\u001b[1;33m,\u001b[0m \u001b[1;34m'age'\u001b[0m\u001b[1;33m,\u001b[0m \u001b[1;34m'strength'\u001b[0m\u001b[1;33m]\u001b[0m\u001b[1;33m\u001b[0m\u001b[1;33m\u001b[0m\u001b[0m\n\u001b[1;32m----> 3\u001b[1;33m \u001b[0mconc_data\u001b[0m\u001b[1;33m=\u001b[0m\u001b[0mpd\u001b[0m\u001b[1;33m.\u001b[0m\u001b[0mread_csv\u001b[0m\u001b[1;33m(\u001b[0m\u001b[1;34m\"concretedata1.csv\"\u001b[0m\u001b[1;33m,\u001b[0m \u001b[0mnames\u001b[0m\u001b[1;33m=\u001b[0m\u001b[0mnames\u001b[0m\u001b[1;33m)\u001b[0m\u001b[1;33m\u001b[0m\u001b[1;33m\u001b[0m\u001b[0m\n\u001b[0m",
      "\u001b[1;31mNameError\u001b[0m: name 'pd' is not defined"
     ]
    }
   ],
   "source": [
    "#προσθέτουμε στο αρχείο τους τίτλους των στηλών \n",
    "names = ['cement', 'slag', 'fly ash', 'water', 'superplasticize', 'aggregate', 'fine aggregate', 'age', 'strength']\n",
    "conc_data=pd.read_csv(\"concretedata1.csv\", names=names)"
   ]
  },
  {
   "cell_type": "code",
   "execution_count": 124,
   "metadata": {},
   "outputs": [
    {
     "data": {
      "text/html": [
       "<div>\n",
       "<style scoped>\n",
       "    .dataframe tbody tr th:only-of-type {\n",
       "        vertical-align: middle;\n",
       "    }\n",
       "\n",
       "    .dataframe tbody tr th {\n",
       "        vertical-align: top;\n",
       "    }\n",
       "\n",
       "    .dataframe thead th {\n",
       "        text-align: right;\n",
       "    }\n",
       "</style>\n",
       "<table border=\"1\" class=\"dataframe\">\n",
       "  <thead>\n",
       "    <tr style=\"text-align: right;\">\n",
       "      <th></th>\n",
       "      <th>cement</th>\n",
       "      <th>slag</th>\n",
       "      <th>fly ash</th>\n",
       "      <th>water</th>\n",
       "      <th>superplasticize</th>\n",
       "      <th>aggregate</th>\n",
       "      <th>fine aggregate</th>\n",
       "      <th>age</th>\n",
       "      <th>strength</th>\n",
       "    </tr>\n",
       "  </thead>\n",
       "  <tbody>\n",
       "    <tr>\n",
       "      <th>0</th>\n",
       "      <td>540.0</td>\n",
       "      <td>0.0</td>\n",
       "      <td>0.0</td>\n",
       "      <td>162.0</td>\n",
       "      <td>2.5</td>\n",
       "      <td>1040.0</td>\n",
       "      <td>676.0</td>\n",
       "      <td>28</td>\n",
       "      <td>79.99</td>\n",
       "    </tr>\n",
       "    <tr>\n",
       "      <th>1</th>\n",
       "      <td>540.0</td>\n",
       "      <td>0.0</td>\n",
       "      <td>0.0</td>\n",
       "      <td>162.0</td>\n",
       "      <td>2.5</td>\n",
       "      <td>1055.0</td>\n",
       "      <td>676.0</td>\n",
       "      <td>28</td>\n",
       "      <td>61.89</td>\n",
       "    </tr>\n",
       "    <tr>\n",
       "      <th>2</th>\n",
       "      <td>332.5</td>\n",
       "      <td>142.5</td>\n",
       "      <td>0.0</td>\n",
       "      <td>228.0</td>\n",
       "      <td>0.0</td>\n",
       "      <td>932.0</td>\n",
       "      <td>594.0</td>\n",
       "      <td>270</td>\n",
       "      <td>40.27</td>\n",
       "    </tr>\n",
       "    <tr>\n",
       "      <th>3</th>\n",
       "      <td>332.5</td>\n",
       "      <td>142.5</td>\n",
       "      <td>0.0</td>\n",
       "      <td>228.0</td>\n",
       "      <td>0.0</td>\n",
       "      <td>932.0</td>\n",
       "      <td>594.0</td>\n",
       "      <td>365</td>\n",
       "      <td>41.05</td>\n",
       "    </tr>\n",
       "    <tr>\n",
       "      <th>4</th>\n",
       "      <td>198.6</td>\n",
       "      <td>132.4</td>\n",
       "      <td>0.0</td>\n",
       "      <td>192.0</td>\n",
       "      <td>0.0</td>\n",
       "      <td>978.4</td>\n",
       "      <td>825.5</td>\n",
       "      <td>360</td>\n",
       "      <td>44.30</td>\n",
       "    </tr>\n",
       "  </tbody>\n",
       "</table>\n",
       "</div>"
      ],
      "text/plain": [
       "   cement   slag  fly ash  water  superplasticize  aggregate  fine aggregate  \\\n",
       "0   540.0    0.0      0.0  162.0              2.5     1040.0           676.0   \n",
       "1   540.0    0.0      0.0  162.0              2.5     1055.0           676.0   \n",
       "2   332.5  142.5      0.0  228.0              0.0      932.0           594.0   \n",
       "3   332.5  142.5      0.0  228.0              0.0      932.0           594.0   \n",
       "4   198.6  132.4      0.0  192.0              0.0      978.4           825.5   \n",
       "\n",
       "   age  strength  \n",
       "0   28     79.99  \n",
       "1   28     61.89  \n",
       "2  270     40.27  \n",
       "3  365     41.05  \n",
       "4  360     44.30  "
      ]
     },
     "execution_count": 124,
     "metadata": {},
     "output_type": "execute_result"
    }
   ],
   "source": [
    "#εμφανίζουμε τα πρώτα 5 δείγματα \n",
    "conc_data.head()"
   ]
  },
  {
   "cell_type": "code",
   "execution_count": 125,
   "metadata": {},
   "outputs": [],
   "source": [
    "#από τα δεδομένα μας εισάγουμε όλες τις στήλες στο διάνυσμα χ εκτόσ της strength την οποία εισάγουμε στο διάνυσμα y\n",
    "y=conc_data[\"strength\"]\n",
    "x=conc_data.drop([\"strength\"], axis=1)"
   ]
  },
  {
   "cell_type": "code",
   "execution_count": 126,
   "metadata": {},
   "outputs": [
    {
     "name": "stdout",
     "output_type": "stream",
     "text": [
      "training_samples: 721\n",
      "test_samples: 309\n"
     ]
    }
   ],
   "source": [
    "#υπολογίζουμε το 70% του dataset για την εκπαίδευση ενώ το 30% το χρησιμοποιούμε γθα αξιολόγηση\n",
    "#εμφανίζουμε τα αποτελέσματα \n",
    "a=len(conc_data)\n",
    "test_samples=int(a*0.3)\n",
    "print(\"training_samples:\", a-test_samples)\n",
    "print(\"test_samples:\", test_samples)"
   ]
  },
  {
   "cell_type": "code",
   "execution_count": 127,
   "metadata": {},
   "outputs": [],
   "source": [
    "from sklearn.model_selection import train_test_split"
   ]
  },
  {
   "cell_type": "code",
   "execution_count": 128,
   "metadata": {},
   "outputs": [
    {
     "name": "stdout",
     "output_type": "stream",
     "text": [
      "\n",
      "the corralation matrix is\n",
      "\n",
      "[ 0.49783192  0.13482926 -0.10575492 -0.28963338  0.36607883 -0.16493461\n",
      " -0.16724125  0.328873  ]\n"
     ]
    }
   ],
   "source": [
    "# φτιάχνουμε τον corralation matrix\n",
    "x_array=x.values\n",
    "y_array=y.values\n",
    "rho = np.zeros(x_array.shape[1])\n",
    "for i in range(x_array.shape[1]):\n",
    "    rho[i] = (np.corrcoef(x_array[:, i], y_array[:]))[0, 1]\n",
    "print(\"\\nthe corralation matrix is\\n\")\n",
    "print(rho)"
   ]
  },
  {
   "cell_type": "code",
   "execution_count": 110,
   "metadata": {},
   "outputs": [],
   "source": []
  },
  {
   "cell_type": "code",
   "execution_count": 129,
   "metadata": {},
   "outputs": [],
   "source": [
    "#χωρίζουμε τα δεδομένα σε (x_train, y_train )και (x_test, y_test)\n",
    "x_train, x_test, y_train, y_test=train_test_split(x,y, test_size=test_samples, random_state=100)\n"
   ]
  },
  {
   "cell_type": "code",
   "execution_count": null,
   "metadata": {},
   "outputs": [],
   "source": []
  },
  {
   "cell_type": "code",
   "execution_count": 130,
   "metadata": {},
   "outputs": [
    {
     "name": "stdout",
     "output_type": "stream",
     "text": [
      "OLS Training score: 0.6023620773405807\n"
     ]
    }
   ],
   "source": [
    "from sklearn.linear_model import LinearRegression\n",
    "#Από τη βιβλιοθήκη scikit-learn εισάγουμε το μοντέλο γραμμικής παλινδρόμησης\n",
    "model = LinearRegression()\n",
    "model.fit(x_train, y_train)\n",
    "#Εκτυπώνουμε το score (R2 value)-ακρίβεια του μοντέλου μας πάνω στο σετ εκπαίδευσης\n",
    "print(\"OLS Training score:\",model.score(x_train,y_train))"
   ]
  },
  {
   "cell_type": "code",
   "execution_count": 131,
   "metadata": {},
   "outputs": [
    {
     "name": "stdout",
     "output_type": "stream",
     "text": [
      "OLS Test score: 0.6339345298633021\n"
     ]
    }
   ],
   "source": [
    "#Αυτό που μας ενδιαφέρει όμως κυρίως είναι το σκορ του μοντέλου μας στο σετ αξιολόγησης \n",
    "print(\"OLS Test score:\",model.score(x_test,y_test))"
   ]
  },
  {
   "cell_type": "code",
   "execution_count": 132,
   "metadata": {},
   "outputs": [
    {
     "name": "stdout",
     "output_type": "stream",
     "text": [
      "OLS MSE: 111.58365468997785\n",
      "OLS MAE: 8.342233987943214\n",
      "OLS MAPE: 31.7968242116991\n"
     ]
    }
   ],
   "source": [
    "#ελαχιστα τετραγωνα\n",
    "from sklearn.metrics import mean_squared_error\n",
    "from sklearn.metrics import mean_absolute_error\n",
    "#Στο διάνυσμα y_pred βάζουμε τις τιμές που προέβλεψε το μοντέλο μας ώστε να υπολογί\n",
    "y_pred = model.predict(x_test)\n",
    "model_mse = mean_squared_error(y_pred, y_test)\n",
    "model_mae = mean_absolute_error(y_pred,y_test)\n",
    "print(\"OLS MSE:\",model_mse)\n",
    "print(\"OLS MAE:\",model_mae)\n",
    "#δημιουργουμε και εκτυπώνουμε τη συνάρτηση υπολογισμού του MAPE\n",
    "def mean_absolute_percentage_error(y_test, y_pred):\n",
    " y_test, y_pred = np.array(y_test), np.array(y_pred)\n",
    " return np.mean(np.abs((y_test - y_pred) / y_test)) * 100\n",
    "print(\"OLS MAPE:\",mean_absolute_percentage_error(y_test,y_pred))"
   ]
  },
  {
   "cell_type": "code",
   "execution_count": 133,
   "metadata": {},
   "outputs": [
    {
     "name": "stdout",
     "output_type": "stream",
     "text": [
      "With alpha: 0.01 MSE: 111.58365321328137\n",
      "With alpha: 0.03 MSE: 111.58365025990982\n",
      "With alpha: 0.05 MSE: 111.58364730656696\n",
      "With alpha: 0.06 MSE: 111.58364582990627\n",
      "With alpha: 0.9 MSE: 111.58352181597098\n",
      "With alpha: 0.2 MSE: 111.5836251574084\n",
      "With alpha: 0.5 MSE: 111.58358086392501\n",
      "With alpha: 1.5 MSE: 111.58343326551504\n",
      "With alpha: 2.5 MSE: 111.58328573866989\n",
      "With alpha: 100.0 MSE: 111.56923997229693\n",
      "\n",
      "\n",
      "Lowest MSE: 111.56923997229693 with alpha: 100.0\n"
     ]
    }
   ],
   "source": [
    "#Δημιουργούμε ένα μοντέλο Ridge Regression \n",
    "from sklearn.linear_model import Ridge\n",
    "#Δημιουργούμε ένα array με πιθανές τιμές του alpha(λ) με τις οποίες  υπολογίζουμε  το MSE και να εκτυπώσουμε αυτη την οποία \n",
    "#αντιστοιχεί και το μικρότερο MSE, επιλέγουμε έτσι το καλύτερο μοντέλο \n",
    "alphas = np.array([0.01,0.03,0.05,0.06,0.9,0.20,0.50,1.50,2.50,100])\n",
    "min = 200\n",
    "pos = 0\n",
    "for i in range(0,10):\n",
    " ridge_reg=Ridge(alpha=alphas[i])\n",
    " ridge_reg.fit(x_train,y_train)\n",
    " y_pred = ridge_reg.predict(x_test)\n",
    " model_mse = mean_squared_error(y_pred, y_test)\n",
    " print(\"With alpha:\",alphas[i],\"MSE:\",model_mse)\n",
    " \n",
    "if(model_mse<=min):\n",
    "    min=model_mse\n",
    "    pos=alphas[i]\n",
    "    print('\\n')\n",
    "print(\"Lowest MSE:\",min,\"with alpha:\",pos)\n",
    "\n",
    " "
   ]
  },
  {
   "cell_type": "code",
   "execution_count": 2,
   "metadata": {
    "scrolled": true
   },
   "outputs": [
    {
     "ename": "NameError",
     "evalue": "name 'x_train' is not defined",
     "output_type": "error",
     "traceback": [
      "\u001b[1;31m---------------------------------------------------------------------------\u001b[0m",
      "\u001b[1;31mNameError\u001b[0m                                 Traceback (most recent call last)",
      "\u001b[1;32m<ipython-input-2-2e13d8f4bece>\u001b[0m in \u001b[0;36m<module>\u001b[1;34m\u001b[0m\n\u001b[0;32m      1\u001b[0m \u001b[1;31m#υπολογίζουμε τισ μετρικές για το α που επιλέξαμε\u001b[0m\u001b[1;33m\u001b[0m\u001b[1;33m\u001b[0m\u001b[1;33m\u001b[0m\u001b[0m\n\u001b[0;32m      2\u001b[0m \u001b[0mridge\u001b[0m \u001b[1;33m=\u001b[0m \u001b[0mlm\u001b[0m\u001b[1;33m.\u001b[0m\u001b[0mRidge\u001b[0m\u001b[1;33m(\u001b[0m\u001b[0malpha\u001b[0m\u001b[1;33m=\u001b[0m\u001b[1;36m100\u001b[0m\u001b[1;33m)\u001b[0m\u001b[1;33m\u001b[0m\u001b[1;33m\u001b[0m\u001b[0m\n\u001b[1;32m----> 3\u001b[1;33m \u001b[0mridge\u001b[0m\u001b[1;33m.\u001b[0m\u001b[0mfit\u001b[0m\u001b[1;33m(\u001b[0m\u001b[0mx_train\u001b[0m\u001b[1;33m,\u001b[0m \u001b[0my_train\u001b[0m\u001b[1;33m)\u001b[0m\u001b[1;33m\u001b[0m\u001b[1;33m\u001b[0m\u001b[0m\n\u001b[0m\u001b[0;32m      4\u001b[0m \u001b[0my_pred\u001b[0m \u001b[1;33m=\u001b[0m \u001b[0mridge\u001b[0m\u001b[1;33m.\u001b[0m\u001b[0mpredict\u001b[0m\u001b[1;33m(\u001b[0m\u001b[0mx_test\u001b[0m\u001b[1;33m)\u001b[0m\u001b[1;33m\u001b[0m\u001b[1;33m\u001b[0m\u001b[0m\n\u001b[0;32m      5\u001b[0m \u001b[0mmse_ridge\u001b[0m \u001b[1;33m=\u001b[0m \u001b[0mmean_squared_error\u001b[0m\u001b[1;33m(\u001b[0m\u001b[0my_pred\u001b[0m\u001b[1;33m,\u001b[0m \u001b[0my_test\u001b[0m\u001b[1;33m)\u001b[0m\u001b[1;33m\u001b[0m\u001b[1;33m\u001b[0m\u001b[0m\n",
      "\u001b[1;31mNameError\u001b[0m: name 'x_train' is not defined"
     ]
    }
   ],
   "source": [
    " #υπολογίζουμε τισ μετρικές για το α που επιλέξαμε\n",
    "ridge = lm.Ridge(alpha=100)\n",
    "ridge.fit(x_train, y_train)\n",
    "y_pred = ridge.predict(x_test)\n",
    "mse_ridge = mean_squared_error(y_pred, y_test)\n",
    "mae_ridge = np.mean(np.fabs(y_test - y_pred))\n",
    "mape_ridge=mean_absolute_percentage_error(y_test,y_pred)\n",
    "print(\"MSE: %f\" % (mse_ridge))\n",
    "print(\"MAE: %f\" % (mae_ridge))\n",
    "print(\"MAPE: %f\"% (mape_ridge))\n",
    "mae_perc = 100.0 * mae_ridge/average(y)\n",
    "print(\"Average price in test set: %f\\nError percentage: %f %%\\n\" % (average(y), mae_perc))\n",
    "# Vector w=[w_1, w_2, ..., w_p]. Ridge regression results in smaller weights.\n",
    "print(ridge.coef_)\n",
    "# Intercept term, w_0\n",
    "print(ridge.intercept_)"
   ]
  },
  {
   "cell_type": "code",
   "execution_count": 135,
   "metadata": {},
   "outputs": [
    {
     "name": "stdout",
     "output_type": "stream",
     "text": [
      "With alpha: 0.01 MSE: 111.58208619566274\n",
      "\n",
      "\n",
      "With alpha: 0.03 MSE: 111.57898028111377\n",
      "\n",
      "\n",
      "With alpha: 0.05 MSE: 111.57591777604091\n",
      "\n",
      "\n",
      "With alpha: 0.06 MSE: 111.57440204870933\n",
      "\n",
      "\n",
      "With alpha: 0.9 MSE: 111.48444049891977\n",
      "\n",
      "\n",
      "With alpha: 0.2 MSE: 111.55428154888779\n",
      "With alpha: 0.5 MSE: 111.51807584504301\n",
      "With alpha: 1.5 MSE: 111.4652753947825\n",
      "\n",
      "\n",
      "With alpha: 2.5 MSE: 111.51663191041914\n",
      "With alpha: 100.0 MSE: 169.22967917707047\n",
      "Lowest MSE: 111.4652753947825 with alpha: 1.5\n"
     ]
    }
   ],
   "source": [
    "from sklearn.linear_model import Lasso\n",
    "alphas = np.array([0.01,0.03,0.05,0.06,0.9,0.20,0.50,1.50,2.50,100])\n",
    "min = 200\n",
    "pos = 0\n",
    "for i in range(0,10):\n",
    " lasso_reg=Lasso(alpha=alphas[i])\n",
    " lasso_reg.fit(x_train,y_train)\n",
    " y_pred = lasso_reg.predict(x_test)\n",
    " model_mse = mean_squared_error(y_pred, y_test)\n",
    " print(\"With alpha:\",alphas[i],\"MSE:\",model_mse)\n",
    "\n",
    " if(model_mse<=min):\n",
    "    min=model_mse\n",
    "    pos=alphas[i]\n",
    "    print('\\n')\n",
    "print(\"Lowest MSE:\",min,\"with alpha:\",pos)"
   ]
  },
  {
   "cell_type": "code",
   "execution_count": 136,
   "metadata": {},
   "outputs": [
    {
     "name": "stdout",
     "output_type": "stream",
     "text": [
      "MSE: 111.465275\n",
      "MAE: 8.332400\n",
      "MAPE: 31.854317\n",
      "Average price in test set: 35.746861\n",
      "Error percentage: 23.309460 %\n",
      "\n",
      "[ 0.11879467  0.09345006  0.08890444 -0.14403222  0.25237825  0.01548379\n",
      "  0.01808752  0.10797642]\n",
      "-18.72225621590399\n"
     ]
    }
   ],
   "source": [
    "#υπολογίζουμε τισ μετρικές για το α που επιλέξαμε\n",
    "lasso = lm.Lasso(alpha=1.5)\n",
    "lasso.fit(x_train, y_train)\n",
    "y_pred = lasso.predict(x_test)\n",
    "mse_lasso = np.mean((y_test - y_pred) ** 2)\n",
    "mae_lasso = np.mean(np.fabs(y_test - y_pred))\n",
    "mape_lasso=mean_absolute_percentage_error(y_test,y_pred)\n",
    "print(\"MSE: %f\" % (mse_lasso))\n",
    "print(\"MAE: %f\" % (mae_lasso))\n",
    "print(\"MAPE: %f\"% (mape_lasso))\n",
    "average_y = np.mean(y_test)\n",
    "mae_perc = 100.0 * mae_lasso/average_y\n",
    "print(\"Average price in test set: %f\\nError percentage: %f %%\\n\" % (average_y, mae_perc))\n",
    "# Vector w=[w_1, w_2, ..., w_p]. LASSO results in sparse weight vector.\n",
    "print(lasso.coef_)\n",
    "# Intercept term, w_0\n",
    "print(lasso.intercept_)\n"
   ]
  },
  {
   "cell_type": "code",
   "execution_count": 137,
   "metadata": {},
   "outputs": [],
   "source": [
    "#ΕΡΩΤΗΜΑ 1.3\n",
    "#Χωρίζουμε και πάλι το dataset σε train και test set αλλα τώρα επιλέγουμε με τυχαίο τρόπο το 70% του συνόλου δεδομένων\n",
    "# για εκπαίδευση και το 30% για αξιολόγηση \n",
    "x_train, x_test, y_train, y_test = train_test_split(x, y, test_size=test_samples)"
   ]
  },
  {
   "cell_type": "code",
   "execution_count": null,
   "metadata": {},
   "outputs": [],
   "source": []
  },
  {
   "cell_type": "code",
   "execution_count": 150,
   "metadata": {},
   "outputs": [
    {
     "name": "stdout",
     "output_type": "stream",
     "text": [
      "Average over 10 runs:\n",
      "MSE: 121.443471 (0.000000) \n",
      "MAE: 8.692850 (0.000000) \n",
      "MAPE: 30.109496 (0.000000) \n"
     ]
    }
   ],
   "source": [
    "#Ανακατεύουμε  τυχαία 10 φορές το dataset, δημιουργούμε κάθε φορά ένα μοντέλο εκτυπώνουμε τα MSE, MAE, MAPE\n",
    "#ελάχιστα τετράγωνα\n",
    "\n",
    "n_iter = 10\n",
    "mse = np.zeros(n_iter)\n",
    "mae = np.zeros(n_iter)\n",
    "mape = np.zeros(n_iter)\n",
    "for i in range(n_iter):\n",
    " x_train, x_test, y_train, y_test = train_test_split(x, y, test_size=test_samples)\n",
    "\n",
    " model2 = LinearRegression()\n",
    " model2.fit(x_train, y_train)\n",
    "\n",
    " y_pred_model2 = model2.predict(x_test)\n",
    "\n",
    " mse[i] = mean_squared_error(y_pred_model2, y_test)\n",
    " mae[i] = mean_absolute_error(y_pred_model2, y_test)\n",
    " mape[i] = mean_absolute_percentage_error(y_test,y_pred_model2)\n",
    "\n",
    "mse_ols = np.mean(mse[i])\n",
    "mse_ols_std = np.std(mse[i])\n",
    "mae_ols = np.mean(mae[i])\n",
    "mae_ols_std = np.std(mae[i])\n",
    "mape_ols=np.mean(mape[i])\n",
    "mape_ols_std=np.std(mape[i])\n",
    "print(\"Average over \" + str(n_iter) + \" runs:\")\n",
    "print(\"MSE: %f (%f) \" % (mse_ols, mse_ols_std))\n",
    "print(\"MAE: %f (%f) \" % (mae_ols, mae_ols_std))\n",
    "print(\"MAPE: %f (%f) \" % (mape_ols,mape_ols_std))"
   ]
  },
  {
   "cell_type": "code",
   "execution_count": 153,
   "metadata": {},
   "outputs": [
    {
     "name": "stdout",
     "output_type": "stream",
     "text": [
      "Average over 10 runs:\n",
      "MSE: 116.717316 (0.000000) \n",
      "MAE: 8.485533 (0.000000) \n",
      "MAPE: 32.402973 (0.000000) \n"
     ]
    }
   ],
   "source": [
    "#ridge\n",
    "n_iter = 10\n",
    "mse = np.zeros(n_iter)\n",
    "mae = np.zeros(n_iter)\n",
    "mape = np.zeros(n_iter)\n",
    "for i in range(n_iter):\n",
    " x_train, x_test, y_train, y_test = train_test_split(x, y, test_size=test_samples)\n",
    "\n",
    " model_ridge2 = Ridge()\n",
    " model_ridge2.fit(x_train, y_train)\n",
    "\n",
    " y_pred_model_ridge2 = model_ridge2.predict(x_test)\n",
    "\n",
    " mse[i] = mean_squared_error(y_pred_model_ridge2, y_test)\n",
    " mae[i] = mean_absolute_error(y_pred_model_ridge2, y_test)\n",
    " mape[i] = mean_absolute_percentage_error(y_test,y_pred_model_ridge2)\n",
    "\n",
    "mse_ridge2 = np.mean(mse[i])\n",
    "mse_ridge2_std = np.std(mse[i])\n",
    "mae_ridge2 = np.mean(mae[i])\n",
    "mae_ridge2_std = np.std(mae[i])\n",
    "mape_ridge2=np.mean(mape[i])\n",
    "mape_ridge2_std=np.std(mape[i])\n",
    "print(\"Average over \" + str(n_iter) + \" runs:\")\n",
    "print(\"MSE: %f (%f) \" % (mse_ridge2, mse_ridge2_std))\n",
    "print(\"MAE: %f (%f) \" % (mae_ridge2, mae_ridge2_std))\n",
    "print(\"MAPE: %f (%f) \" % (mape_ridge2,mape_ridge2_std))\n"
   ]
  },
  {
   "cell_type": "code",
   "execution_count": 154,
   "metadata": {},
   "outputs": [
    {
     "name": "stdout",
     "output_type": "stream",
     "text": [
      "Average over 10 runs:\n",
      "MSE: 113.457096 (0.000000) \n",
      "MAE: 8.430141 (0.000000) \n",
      "MAPE: 29.448395 (0.000000) \n"
     ]
    }
   ],
   "source": [
    "#lasso\n",
    "n_iter = 10\n",
    "mse = np.zeros(n_iter)\n",
    "mae = np.zeros(n_iter)\n",
    "mape = np.zeros(n_iter)\n",
    "for i in range(n_iter):\n",
    " x_train, x_test, y_train, y_test = train_test_split(x, y, test_size=test_samples)\n",
    "\n",
    " model_lasso2 = Lasso()\n",
    " model_lasso2.fit(x_train, y_train)\n",
    "\n",
    " y_pred_model_lasso2 = model_lasso2.predict(x_test)\n",
    "\n",
    " mse[i] = mean_squared_error(y_pred_model_lasso2, y_test)\n",
    " mae[i] = mean_absolute_error(y_pred_model_lasso2, y_test)\n",
    " mape[i] = mean_absolute_percentage_error(y_test,y_pred_model_lasso2)\n",
    "\n",
    "mse_lasso2 = np.mean(mse[i])\n",
    "mse_lasso2_std = np.std(mse[i])\n",
    "mae_lasso2 = np.mean(mae[i])\n",
    "mae_lasso2_std = np.std(mae[i])\n",
    "mape_lasso2=np.mean(mape[i])\n",
    "mape_lasso2_std=np.std(mape[i])\n",
    "print(\"Average over \" + str(n_iter) + \" runs:\")\n",
    "print(\"MSE: %f (%f) \" % (mse_lasso2, mse_lasso2_std))\n",
    "print(\"MAE: %f (%f) \" % (mae_lasso2, mae_lasso2_std))\n",
    "print(\"MAPE: %f (%f) \" % (mape_lasso2,mape_lasso2_std))"
   ]
  },
  {
   "cell_type": "code",
   "execution_count": 18,
   "metadata": {},
   "outputs": [],
   "source": [
    "#ΕΡΩΤΗΜΑ 1.4\n",
    "#Επαναφέρουμε το dataset στην αρχική του κατάσταση\n",
    "x_train, x_test, y_train, y_test = train_test_split(x, y, test_size=test_samples, random_state=0)"
   ]
  },
  {
   "cell_type": "code",
   "execution_count": 19,
   "metadata": {},
   "outputs": [],
   "source": [
    "#Δημιουργούμε ένα μοντέλο polynomial linear regression δευτέρου βαθμού\n",
    "#Υπολογίζουμε και εκτυπώνουμε την ακρίβεια στο training set\n",
    "from sklearn.preprocessing import PolynomialFeatures\n",
    "pol= PolynomialFeatures(degree=2,include_bias=False)\n",
    "#Στο x_train πλεον προσθέσαμε τετράγωνα των  τιμών\n",
    "#χρησιμοποιούμε  x_pol2  για να προβλέψουμε τις τιμές του x_test\n",
    "\n",
    "x_pol = pol.fit_transform(x_train)\n",
    "x_pol2 = pol.fit_transform(x_test)\n",
    "\n"
   ]
  },
  {
   "cell_type": "code",
   "execution_count": 20,
   "metadata": {},
   "outputs": [
    {
     "data": {
      "text/plain": [
       "0.8226915548300837"
      ]
     },
     "execution_count": 20,
     "metadata": {},
     "output_type": "execute_result"
    }
   ],
   "source": [
    "model_lin = LinearRegression()\n",
    "model_lin.fit(x_pol, y_train)\n",
    "model_lin.score(x_pol,y_train)"
   ]
  },
  {
   "cell_type": "code",
   "execution_count": 22,
   "metadata": {},
   "outputs": [
    {
     "name": "stdout",
     "output_type": "stream",
     "text": [
      "MSE of 2nd degree model: 61.92016986349087\n",
      "MAE of 2nd degree model: 5.996021785208871\n"
     ]
    }
   ],
   "source": [
    "#Το διάνυσμα y_pred3  ειναι  προβλέψεις του δευτεροβάθμιου μοντέλου \n",
    "y_pred3 = model_lin.predict(x_pol2)\n",
    "print(\"MSE of 2nd degree model:\",mean_squared_error(y_pred3,y_test))\n",
    "print(\"MAE of 2nd degree model:\",mean_absolute_error(y_pred3,y_test))"
   ]
  },
  {
   "cell_type": "code",
   "execution_count": 23,
   "metadata": {},
   "outputs": [
    {
     "name": "stdout",
     "output_type": "stream",
     "text": [
      "Best degree 3 with RMSE 7.212523702265063\n"
     ]
    },
    {
     "data": {
      "text/plain": [
       "[]"
      ]
     },
     "execution_count": 23,
     "metadata": {},
     "output_type": "execute_result"
    },
    {
     "data": {
      "image/png": "[encoded data removed]",
      "text/plain": [
       "<Figure size 800x640 with 1 Axes>"
      ]
     },
     "metadata": {
      "needs_background": "light"
     },
     "output_type": "display_data"
    }
   ],
   "source": [
    "#Με μία επαναλήπτική διαδικασία υπολογίζουμε για κάθε βαθμό(0-10) το RMSE και εκτυπώνουμε το ελάχιστο\n",
    "\n",
    "rmses = []\n",
    "degrees = np.arange(1, 10)\n",
    "min_rmse, min_deg = 1e10, 0\n",
    "for deg in degrees:\n",
    " # Train features\n",
    " pol_f = PolynomialFeatures(degree=deg, include_bias=False)\n",
    " x_pol_train = pol_f.fit_transform(x_train)\n",
    " # Linear regression\n",
    " pol_reg = LinearRegression()\n",
    " pol_reg.fit(x_pol_train, y_train)\n",
    " # Compare with test data\n",
    " x_pol_test = pol_f.fit_transform(x_test)\n",
    " pol_predict = pol_reg.predict(x_pol_test)\n",
    " pol_mse = mean_squared_error(y_test, pol_predict)\n",
    " pol_rmse = np.sqrt(pol_mse)\n",
    " rmses.append(pol_rmse)\n",
    " # Cross-validation of degree\n",
    " if min_rmse > pol_rmse:\n",
    "    min_rmse = pol_rmse\n",
    "    min_deg = deg\n",
    " # Plot and present results\n",
    "print('Best degree {} with RMSE {}'.format(min_deg, min_rmse))\n",
    "fig=plt.figure(figsize=(10, 8), dpi= 80)\n",
    "a = fig.add_subplot(111)\n",
    "a.plot(degrees, rmses)\n",
    "a.set_yscale('log')\n",
    "a.set_xlabel('Degree')\n",
    "a.set_ylabel('RMSE')\n",
    "a.grid()\n",
    "a.plot()"
   ]
  },
  {
   "cell_type": "code",
   "execution_count": 30,
   "metadata": {},
   "outputs": [
    {
     "name": "stdout",
     "output_type": "stream",
     "text": [
      "Best degree 3 with MSE 52.02049815573533\n"
     ]
    },
    {
     "data": {
      "text/plain": [
       "[]"
      ]
     },
     "execution_count": 30,
     "metadata": {},
     "output_type": "execute_result"
    },
    {
     "data": {
      "image/png": "[encoded data removed]",
      "text/plain": [
       "<Figure size 800x640 with 1 Axes>"
      ]
     },
     "metadata": {
      "needs_background": "light"
     },
     "output_type": "display_data"
    }
   ],
   "source": [
    "mses = []\n",
    "degrees = np.arange(1, 10)\n",
    "min_mse, min_deg = 1e10, 0\n",
    "for deg in degrees:\n",
    " # Train features\n",
    " pol_f = PolynomialFeatures(degree=deg, include_bias=False)\n",
    " x_pol_train = pol_f.fit_transform(x_train)\n",
    " # Linear regression\n",
    " pol_reg = LinearRegression()\n",
    " pol_reg.fit(x_pol_train, y_train)\n",
    " # Compare with test data\n",
    " x_pol_test = pol_f.fit_transform(x_test)\n",
    " pol_predict = pol_reg.predict(x_pol_test)\n",
    " pol_mse = mean_squared_error(y_test, pol_predict)\n",
    " \n",
    " mses.append(pol_mse)\n",
    " # Cross-validation of degree\n",
    " if min_mse > pol_mse:\n",
    "    min_mse = pol_mse\n",
    "    min_deg = deg\n",
    " # Plot and present results\n",
    "print('Best degree {} with MSE {}'.format(min_deg, min_mse))\n",
    "fig=plt.figure(figsize=(10, 8), dpi= 80)\n",
    "a = fig.add_subplot(111)\n",
    "a.plot(degrees, mses)\n",
    "a.set_yscale('log')\n",
    "a.set_xlabel('Degree')\n",
    "a.set_ylabel('MSE')\n",
    "a.grid()\n",
    "a.plot()"
   ]
  }
 ],
 "metadata": {
  "kernelspec": {
   "display_name": "Python 3",
   "language": "python",
   "name": "python3"
  },
  "language_info": {
   "codemirror_mode": {
    "name": "ipython",
    "version": 3
   },
   "file_extension": ".py",
   "mimetype": "text/x-python",
   "name": "python",
   "nbconvert_exporter": "python",
   "pygments_lexer": "ipython3",
   "version": "3.7.1"
  }
 },
 "nbformat": 4,
 "nbformat_minor": 2
}
